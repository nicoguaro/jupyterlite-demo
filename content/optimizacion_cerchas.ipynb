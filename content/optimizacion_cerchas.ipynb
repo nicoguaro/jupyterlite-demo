{
 "cells": [
  {
   "cell_type": "markdown",
   "metadata": {},
   "source": [
    "Contenido bajo licencia Creative Commons BY 4.0 y código bajo licencia MIT. © Nicolás Guarín-Zapata 2022."
   ]
  },
  {
   "cell_type": "markdown",
   "metadata": {},
   "source": [
    "# Optimización de cerchas planas"
   ]
  },
  {
   "cell_type": "markdown",
   "metadata": {},
   "source": [
    "Como función objetivo deseamos maximizar la rigidez de la estructura.\n",
    "Esto es equivalente a minimizar su flexibilidad, que puede escribirse como\n",
    "\n",
    "$$C = \\mathbf{f}^T \\mathbf{u}\\,,$$\n",
    "\n",
    "en donde $\\mathbf{f}$ es e vector de cargas y $\\mathbf{u}$ el vector de\n",
    "desplazamientos. En inglés al término flexibilidad se le conoce como\n",
    "_flexibility_ o _compliance_. Por tanto, si tenemos una estructura hecha\n",
    "de barras con secciones transversales $A_i$, el problema de optimización\n",
    "serı́a\n",
    "\n",
    "$$\\min_{A_i}  \\mathbf{f}^T \\mathbf{u} .$$\n",
    "\n",
    "El equilibro de la estructura es una condición que siempre debe cumplirse,\n",
    "y está dada por\n",
    "\n",
    "$$\\mathbf{K} \\mathbf{u} = \\mathbf{f}\\, ,$$\n",
    "\n",
    "y, en nuestro caso, ``SolidsPy`` se encarga de encontrar el vector de\n",
    "desplazamientos a partir de un vector de cargas dado.\n",
    "\n",
    "Adicionalmente, tenemos condiciones de peso máximo sobre la cercha, que\n",
    "están dadas por\n",
    "\n",
    "$$w_{\\max} = \\rho\\sum_{i=0}^{N} L_i A_i\\, ,$$\n",
    "\n",
    "en donde $L_i$ es la longitud de la $i$-ésima barra."
   ]
  },
  {
   "cell_type": "markdown",
   "metadata": {},
   "source": [
    "## Problema de optimización"
   ]
  },
  {
   "cell_type": "markdown",
   "metadata": {},
   "source": [
    "El problema de optimización que nos interesa es el de minimizar la flexibilidad\n",
    "(maximizar la rigidez) de una estructura, con un peso máximo $w_{\\max}$ dado y\n",
    "que satisfaga equilibrio. Matemáticamente podemos escribir este problema como\n",
    "\n",
    "\\begin{equation*}\n",
    "\\begin{aligned}\n",
    "& \\underset{A_i}{\\text{minimizar}}\n",
    "& & \\mathbf{f}^T \\mathbf{u} \\\\\n",
    "& \\text{sujeto a}\n",
    "& & w_{\\max} - \\rho \\sum_{i=0}^N L_i A_i  \\geq 0\\, ,\\\\\n",
    "& & & A_i - A_{\\min} > 0\\quad \\forall i ,\\\\\n",
    "& & & A_{\\max} - A_i > 0\\quad \\forall i ,\\\\\n",
    "& & & \\mathbf{K} \\mathbf{u} = \\mathbf{f}\\, .\n",
    "\\end{aligned}\n",
    "\\end{equation*}\n",
    "\n",
    "Pero la última condición se satisface de manera trivial si $\\mathbf{u}$ es\n",
    "solución de\n",
    "\n",
    "$$\\mathbf{K} \\mathbf{u} = \\mathbf{f}\\, ,$$\n",
    "\n",
    "que en nuestro caso se cumple. Por tanto, tenemos el siguiente problema\n",
    "\n",
    "\\begin{equation*}\n",
    "\\begin{aligned}\n",
    "& \\underset{A_i}{\\text{minimizar}}\n",
    "& & \\mathbf{f}^T \\mathbf{u} \\\\\n",
    "& \\text{sujeto a}\n",
    "& & w_{\\max} - \\rho \\sum_{i=0}^N L_i A_i  \\geq 0\\, ,\\\\\n",
    "& & & A_i - A_{\\min} > 0\\quad \\forall i ,\\\\\n",
    "& & & A_{\\max} - A_i > 0\\quad \\forall i\\,  .\n",
    "\\end{aligned}\n",
    "\\end{equation*}"
   ]
  },
  {
   "cell_type": "markdown",
   "metadata": {},
   "source": [
    "## Solución del problema"
   ]
  },
  {
   "cell_type": "markdown",
   "metadata": {},
   "source": [
    "### Importación de bibliotecas"
   ]
  },
  {
   "cell_type": "code",
   "execution_count": null,
   "metadata": {},
   "outputs": [],
   "source": [
    "import piplite\n",
    "await piplite.install(\"solidspy\")"
   ]
  },
  {
   "cell_type": "code",
   "execution_count": 2,
   "metadata": {},
   "outputs": [],
   "source": [
    "import numpy as np\n",
    "import matplotlib.pyplot as plt\n",
    "from scipy.optimize import minimize\n",
    "import solidspy.postprocesor as pos"
   ]
  },
  {
   "cell_type": "markdown",
   "metadata": {},
   "source": [
    "También necesitamos importar algunas funciones del módulo\n",
    "truss_opt"
   ]
  },
  {
   "cell_type": "code",
   "execution_count": 3,
   "metadata": {},
   "outputs": [],
   "source": [
    "from truss_opt import weight, compliance, fem_sol, plot_truss"
   ]
  },
  {
   "cell_type": "markdown",
   "metadata": {},
   "source": [
    "### Diseño original"
   ]
  },
  {
   "cell_type": "markdown",
   "metadata": {},
   "source": [
    "Queremos optimizar el grosor de las barras de la siguiente cercha.\n",
    "\n",
    "\n",
    "<img src=\"img/cercha_techo.svg\"/>"
   ]
  },
  {
   "cell_type": "code",
   "execution_count": 4,
   "metadata": {},
   "outputs": [],
   "source": [
    "nodes = np.array([\n",
    "           [ 0,  0.0,  0.0, -1, -1],\n",
    "           [ 1,  2.0,  0.0,  0,  0],\n",
    "           [ 2,  4.0,  0.0,  0,  0],\n",
    "           [ 3,  6.0,  0.0,  0,  0],\n",
    "           [ 4,  8.0,  0.0,  0,  0],\n",
    "           [ 5, 10.0,  0.0,  0,  0],\n",
    "           [ 6, 12.0,  0.0,  0, -1],\n",
    "           [ 7,  2.0,  1.0,  0,  0],\n",
    "           [ 8, 10.0,  1.0,  0,  0],\n",
    "           [ 9,  4.0,  2.0,  0,  0],\n",
    "           [10,  8.0,  2.0,  0,  0],\n",
    "           [11,  6.0,  3.0,  0,  0]])\n",
    "mats = np.column_stack((np.full(21, 1e6),\n",
    "                        np.full(21, 1e-2)))\n",
    "eles = np.array([\n",
    "           [ 0,  6,  0,  0,  1],\n",
    "           [ 1,  6,  1,  1,  7],\n",
    "           [ 2,  6,  2,  7,  0],\n",
    "           [ 3,  6,  3,  1,  2],\n",
    "           [ 4,  6,  4,  2,  7],\n",
    "           [ 5,  6,  5,  2,  3],\n",
    "           [ 6,  6,  6,  3,  9],\n",
    "           [ 7,  6,  7,  9,  2],\n",
    "           [ 8,  6,  8,  3,  4],\n",
    "           [ 9,  6,  9,  4, 10],\n",
    "           [10,  6, 10, 10,  3],\n",
    "           [11,  6, 11,  3, 11],\n",
    "           [12,  6, 12,  4,  5],\n",
    "           [13,  6, 13,  5,  8],\n",
    "           [14,  6, 14,  8,  4],\n",
    "           [15,  6, 15,  8, 10],\n",
    "           [16,  6, 16,  5,  6],\n",
    "           [17,  6, 17,  6,  8],\n",
    "           [18,  6, 18, 10, 11],\n",
    "           [19,  6, 19, 11,  9],\n",
    "           [20,  6, 20,  9,  7]])\n",
    "loads = np.array([\n",
    "           [ 0,  0.0, -2.0],\n",
    "           [ 6,  0.0, -2.0],\n",
    "           [ 7,  0.0, -2.0],\n",
    "           [ 8,  0.0, -2.0],\n",
    "           [ 9,  0.0, -2.0],\n",
    "           [10,  0.0, -2.0],\n",
    "           [11,  0.0, -2.0]])\n",
    "\n",
    "areas = mats[:, 1].copy()"
   ]
  },
  {
   "cell_type": "markdown",
   "metadata": {},
   "source": [
    "### Resultados para el diseño original"
   ]
  },
  {
   "cell_type": "code",
   "execution_count": 5,
   "metadata": {},
   "outputs": [
    {
     "name": "stdout",
     "output_type": "stream",
     "text": [
      "Diseño original: [0.01 0.01 0.01 0.01 0.01 0.01 0.01 0.01 0.01 0.01 0.01 0.01 0.01 0.01\n",
      " 0.01 0.01 0.01 0.01 0.01 0.01 0.01]\n",
      "Peso: 0.445454\n",
      "Esfuerzos: [ 1000.     0. -1118.  1000.  -224.   800.  -283.   100.   800.   100.\n",
      "  -283.   400.  1000.     0.  -224.  -894.  1000. -1118.  -671.  -671.\n",
      "  -894.]\n",
      "Flexibilidad: 0.229365\n"
     ]
    }
   ],
   "source": [
    "disp0 = fem_sol(nodes, eles, mats, loads)\n",
    "weight0 = weight(areas, nodes, eles)\n",
    "stress0 = pos.stress_truss(nodes, eles, mats, disp0)\n",
    "compliance0 = compliance(areas, nodes, eles, loads, mats)\n",
    "print(\"Diseño original: {}\".format(areas))\n",
    "print(\"Peso: {:g}\".format(weight0))\n",
    "print(\"Esfuerzos: {}\".format(np.round(stress0)))\n",
    "print(\"Flexibilidad: {:g}\".format(compliance0))"
   ]
  },
  {
   "cell_type": "markdown",
   "metadata": {},
   "source": [
    "### Optimización"
   ]
  },
  {
   "cell_type": "code",
   "execution_count": 6,
   "metadata": {},
   "outputs": [
    {
     "name": "stderr",
     "output_type": "stream",
     "text": [
      "c:\\Users\\nguarinz\\Anaconda3\\envs\\truss_opt\\lib\\site-packages\\scipy\\optimize\\_optimize.py:284: RuntimeWarning: Values in x were outside bounds during a minimize step, clipping to bounds\n",
      "  warnings.warn(\"Values in x were outside bounds during a \"\n"
     ]
    },
    {
     "name": "stdout",
     "output_type": "stream",
     "text": [
      "Optimization terminated successfully    (Exit mode 0)\n",
      "            Current function value: 0.15079235942430463\n",
      "            Iterations: 20\n",
      "            Function evaluations: 467\n",
      "            Gradient evaluations: 20\n"
     ]
    }
   ],
   "source": [
    "nels = len(areas)\n",
    "\n",
    "# Peso máximo permitido\n",
    "tot_w = 0.5 \n",
    "\n",
    "# Cotas inferior y superior en las áreas\n",
    "bnds = [(1e-3, 0.1) for cont in range(nels)]\n",
    "\n",
    "# Restricción de peso\n",
    "weight_fun = lambda areas, nodes, elements, tot_w:\\\n",
    "        tot_w - weight(areas, nodes, elements)\n",
    "weight_cons = [{'type': 'ineq', 'fun': weight_fun,\n",
    "    'args': (nodes, eles, tot_w)}]\n",
    "cons = weight_cons\n",
    "\n",
    "# Minimización\n",
    "res = minimize(compliance, x0=areas, args=(nodes, eles, loads, mats),\n",
    "               bounds=bnds, constraints=cons, method=\"SLSQP\",\n",
    "               tol=1e-6, options={\"maxiter\": 500, \"disp\":True})\n"
   ]
  },
  {
   "cell_type": "markdown",
   "metadata": {},
   "source": [
    "### Diseño optimizado"
   ]
  },
  {
   "cell_type": "code",
   "execution_count": 7,
   "metadata": {},
   "outputs": [
    {
     "name": "stdout",
     "output_type": "stream",
     "text": [
      "Diseño optimizado: [0.018  0.001  0.0207 0.018  0.004  0.0145 0.0051 0.0018 0.0144 0.0018\n",
      " 0.0051 0.0074 0.0179 0.001  0.004  0.0167 0.018  0.0208 0.012  0.0122\n",
      " 0.0163]\n",
      "Peso: 0.5\n",
      "Esfuerzos: [ 557.    0. -539.  557. -561.  552. -557.  553.  555.  560. -554.  541.\n",
      "  560.    0. -565. -537.  556. -538. -560. -550. -547.]\n",
      "Flexiblidad: 0.150792\n"
     ]
    }
   ],
   "source": [
    "# Optimized design\n",
    "mats1 = mats.copy()\n",
    "mats1[:, 1] = res.x\n",
    "disp1 = fem_sol(nodes, eles, mats1, loads)\n",
    "weight1 = weight(res.x, nodes, eles)\n",
    "stress1 = pos.stress_truss(nodes, eles, mats1, disp1)\n",
    "compliance1 = compliance(res.x, nodes, eles, loads, mats1)\n",
    "print(\"Diseño optimizado: {}\".format(np.round(res.x, 4)))\n",
    "print(\"Peso: {:g}\".format(weight1))\n",
    "print(\"Esfuerzos: {}\".format(np.round(stress1)))\n",
    "print(\"Flexiblidad: {:g}\".format(compliance1))"
   ]
  },
  {
   "cell_type": "markdown",
   "metadata": {},
   "source": [
    "### Visualización"
   ]
  },
  {
   "cell_type": "markdown",
   "metadata": {},
   "source": [
    "La función `plot_truss()` nos permite visualizar la cercha\n",
    "con los esfuerzos que experimenta. El color rojo representa\n",
    "una barra a tracción y el color azul una a compresión. La\n",
    "intensidad del color representa la magnitud del esfuerzo."
   ]
  },
  {
   "cell_type": "code",
   "execution_count": 8,
   "metadata": {},
   "outputs": [
    {
     "data": {
      "application/vnd.jupyter.widget-view+json": {
       "model_id": "7053a6db736146c0b8052ab6f7050e3a",
       "version_major": 2,
       "version_minor": 0
      },
      "image/png": "[encoded data removed]",
      "text/html": [
       "\n",
       "            <div style=\"display: inline-block;\">\n",
       "                <div class=\"jupyter-widgets widget-label\" style=\"text-align: center;\">\n",
       "                    Comparación\n",
       "                </div>\n",
       "                <img src='data:image/png;base64,iVBORw0KGgoAAAANSUhEUgAAAyAAAADICAYAAAAQj4UaAAAAOXRFWHRTb2Z0d2FyZQBNYXRwbG90bGliIHZlcnNpb24zLjUuMiwgaHR0cHM6Ly9tYXRwbG90bGliLm9yZy8qNh9FAAAACXBIWXMAAA9hAAAPYQGoP6dpAAAzyElEQVR4nO3deVzUdf4H8Nd3uEEEPEBITDDwWLNcj8oOr9RWLfPXYZltuuG24lraXlmpaXbZKrq5tZWmlpnmTWqr5bFp5pmpLSWu4I0CCoIcwjDf3x80ODcz8L3n9Xw89rH5ZWb4vucz85l5fT8HgiiKIoiIiIiIiBRgUvsEiIiIiIjIfzCAEBERERGRYhhAiIiIiIhIMQwgRERERESkGAYQIiIiIiJSDAMIEREREREphgGEiIiIiIgUwwBCRERERESKYQAhIiIiIiLFMIAQEREREZFiGECIiIiIiEgxDCBERERERKQYBhAiIiIiIlIMAwgRERERESmGAYSIiIiIiBTDAEJERERERIphACEiIiIiIsUwgBARERERkWIYQIiIiIiISDEMIEREREREpBgGECIiIiIiUgwDCBERERERKYYBhIiIiIiIFMMAQkREREREimEAISIiIiIixTCAEBERERGRYhhAiIiIiIhIMQwgRERERESkGAYQIiIiIiJSDAMIEREREREphgGEiIiIiIgUwwBCRERERESKYQAhIiIiIiLFMIAQEREREZFiGECIiIiIiEgxDCBERERERKQYBhAiIiIiIlIMAwgRERERESmGAYSIiIiIiBTDAEJERERERIphACEiIiIiIsUwgBARERERkWIYQIiIiIiISDEMIEREREREpBgGECIiIiIiUgwDCBERERERKYYBhIiIiIiIFMMAQkREREREimEAISIiIiIixTCAEBERERGRYhhAiIiIiIhIMQwgRERERESkGAYQIiIiIiJSDAMIEREREREphgGEiIiIiIgUwwBCRERERESKYQAhIiIiIiLFMIAQEREREZFiGECIiIiIiEgxDCBERERERKQYBhAiIiIiIlIMAwgRERERESmGAYSIiIiIiBTDAEJERERERIphACEiIiIiIsUEqn0C5KygoADV1dVqnwZpmcWCrANleH+xgKoqYNZ0EZHxEYCJ1xSofgkJCWqfguzYj5K3zp27jKqqGrRt2wKCIKh9OqQT/tCPyonfVgwgPDxc7VOQnBFrAqSr6/jhMox+rASr1puQ+aUJTw04jYLcMkke21dGbCsj1gQYty4pGPG5MWJNgLR17fzmJ9x++yu4667XsOCDbZI9rq+M2FZGrAkwbl1KYwDROUEQEB0dbairNkasCZCmruxsC9LTr6Hv/SacuxZTd3zvlSTcdq8J06ZV4eJFUYrT9YoR28qINQHGrUsKRnxujFgTIF1dx47lYdy4JXjs8fdhsdR+FXplxno88cQ7OHgwV4pT9ZoR28qINQHGrUsNnIJFpAPZ2RbMnVuNzMwaiCIAOHd+16oELFhgxtKlZowaFYj09CDExbGTJCKyOnYsD3PnbsEXX/wAUXS8WGPCjh0/Y8eOn9C3bydMmjQE3bolqXKeREbHAEKkYc7Bo36VlWAQISKy4Tl4AEANAAuA2p9t356F7duzGESIZMIAYgCVlZVqn4LkjFgT4H1d3gSPpoEVeCphH4rNofgsrzvMYoDD71ImiBixrYxYE2DcuqRgxOfGiDUBvtVVX/Dod1cyOu96H01QiVMPT8bKzCOoqjLX/VypIGLEtjJiTYBx61KaILq+FEAq4u4t/sub4BEZCaQ9acHLx15Es+ByAMDJ8mZ4OXYqVqw1wWx2fb/QUHBEhAD4x+4t7Ef9W33BY+DAzpg0aRCSoizI7NULAPDA7t0oDWqKd9/dgk8//dYuiFhxRISs/KEflRMXoRtAZGSk2qcgOSPWBLivy7q4vF+/Sqxf7zp8REYCEycG4rvvwvDXZ8W68AEAbcMv4++viti1KxRPPBGAQBdjm9YRkV69KiRdrG7EtjJiTYBx65KCEZ8bI9YEeK7Luri8f/9ZyMw85BQ+Bg7sjC+//BMWLUpDly6JTvdPSIjBzJkj8O230zFmTG8EB9t3ptu3Z+GBB97GqFHzJV2sbsS2MmJNgHHrUhoDiM4JgoDIyEhD7chgxJoA13X5Gjz+8pdgxMS4f14SE02YNStEsSBixLYyYk2AceuSghGfGyPWBLivq7HBw5GSQcSIbWXEmgDj1qUGBhAiFUgdPBwpHUSIiNQgdfBwpNaICJHRMYAQKSgrqwrjxlXKFjwcMYgQkRHJHTwcMYgQSYsBROdEUURZWZmbbQX1yYg1ZWdbMG5cJTp3Pq1I8HAkVxAxYlsZsSbAuHVJwYjPjRFrAoCffz6Phx/+O/r1e0uR4OFIjiBixLYyYk2AcetSA3fB0iDu3mIc3u5q9fTTgUhLC/I6dJhKS9Fq0iS7YxcyMmDxcnHcmTMWvPNONVasqOGuWX7IH3ZvYT9qLN7uauVr6Cg9dcpuF6zIG2/06f7nzxdx1yw/5Q/9qJw4AmIAUVFRap+C5PRek9xrPBpLyhERvbeVK0asCTBuXVIw4nNjhJqUnmrlK6lGRIzQVo6MWBNg3LqUxgCic4IgICIiwlA7Mui5Jq0HD0eNDSJ6bit3jFgTYNy6pGDE50bvNWk9eDhqTBDRe1u5YsSaAOPWpQYGECIJeBs8pkyJwZ494aoHD0dcrE5EWuBN8Dhw4E0sXjxWE8HDERerE3mHAYSoEXwZ8dizJxwzZjTXVPBw5HsQuYa8PDeLSIiIvOTtiMfixWPRrVuySmfpPd+CSI5KZ0mkHgYQnRNFEaWlpYbakUEPNTVkqlV0NDRfl5W3QeTDD81ITj6JqVOvGWZERA+vv4Ywal1SMOJzo5eafJ1qpZe6rLwJIvff/zYGDJiKAweME0T01k7eMmpdauAuWBrE3Vu0S65drXzV2F2wfMVds4zFH3ZvYT+qbXLtauWrxu6C5SvummUc/tCPyokjIDonCAKaNWtmqAVRWqxJisXlWqzLW/60RkTP7eSJUeuSghGfG63W1NjF5Vqty1v+skZE7+3kjlHrUoOLrxHUEGvXrsW+fftw7tw5BAcHIzU1FaNGjVIkIYeGhsr+O5SmlZqkHvHQSl0NZQ0iEya4HxGxBpGlS826HRHRezu5o4e61OpL9fDc+EpLNUk54qGluhrKGkTS0wfi3Xe/wqef7rIbEdm+PQvbt2fpekTECO3kilHrUhoDiESysrIwaNAgtGvXDjU1NVi+fDlmzpyJOXPm8MWqF6IIkyiiotKE1WtK8dVXZny1NUTVqVZaZQ0izz4rYsGCICxaVOI+iHxixuDBZgy+rwnuGwQEBAAWQQB4BYlcYF9qHPv35+L773Pxww9nVJ9qpVUJCTF47bURmDFjFKZOXeoxiNxzT2c0bx6FYcO6IDAwQMWzJmo8BhCJvPTSS3b/Tk9PR1paGnJyctCpUyeVzop8YRJF7FtzFhPeOIPTFy4CSADQxel2/hw8HCUmmvDBB7FIS6vGP/5R5XpE5BqwZm0g1qwtw42ty7BqlojWd8fVhhAiB+xL9W///ly8+up6HDx40u1t/D14OGrdugVee20E0tMHuFwjYg0iQADefDMOL7wwhEGEdI0BRCbl5eUAgCZNmri9TXV1td0iSUEQEBYWVvffAOyuGNnOObQ9XlxcXPdz63HH+YlaOq7FmrKzS/D8pJ9w6IdzNj/JA9AOQAQAa/AIQlpaIGJiBJ9qsh6z1uXqtr6cu6v5p4IgOL1u5Gwn25rsp2aZsWKF2cVi9QCcOtsUPUbW4MFh2Zg67UbExYVp6rUndTtpqSZrXXrbd6S+vpT9qHZq2r8/F3Pm/BvffHMM7gwc2BnPP38fbr65tc81yfH+dPzv+t5Dvh73tSbr1Kzx4wfhn//c4jQiAtTg/PnzePbZRcjISMSkSfdi2LAuCAqy/zqnhT6H/Sh5wl2wZCCKImbNmoWysjLMmDHD7e0+//xzrFq1qu7fSUlJeOutt+xuU1ZWhitXriAqKgoRERF1x0tLS1FaWopmzZrZTUsoLi5GeXk5WrZsiaCgoLrjly5dwrVr19CqVSuYTNf3HsjPz0dNTQ3i4+Ptfm9eXh4CAgIQGxtbd8xiseDChQsICQlB8+bN645XV1ejoKAA4eHhiI6OrjteWVmJy5cvIzIyEpE2uzNpqaYffyzEyy/vQmbmWTdTrRLQpMmtmDQpChMnRiM8vFobNV25Ajz+uP2pfvYZEBWliXY6dw547bUiLFpUgpoax+f0KoBdCA0NwJNPJmH69LsRH3/98f3ltadmTbaPq2Xe9KXsR9Wvadeun/DSS8s8Bo/Bg7tixowR6NYtWVM1Fefk4MN27QAAY0+cQHRy7d8Y0Uo7nT1biDffXI133/23w5feIAC1QTs5uQWmT38Ijz12e92IiL+89tiP6hcDiAwWLFiAQ4cOYcaMGXZvCEfurtwVFBTA/Mvl4/pSuclkQvPmzXHp0iWIoqipKwrujmuhpuzsEmRk/OQheABAIJLadsBDD9+J+++/ipSUygbXZL2yZq3LYrE0qiZTaSniJk60u83FuXPrtuFV6oqQu5pEEdi3rwk2bw7EypXHcOlSOK5vuncYtaNLtUJDTXjyyWSkp6ciLi5M9atcUraTEse9vXJnrauwsNDpg12rvOlL2Y+qV9P+/bmYPftLj8EDACIigpGZOQkdO17fSEAr78/SU6ew/o47AADDvvvObhterfQ5ly6V4t575+DixUsArK/1JnDcyDQ5uQUmTeqPYcNuQUCAqdHnLmdNUp2LkjVZ/19v/ahWcQqWxD766CMcPHgQ06dP9xg+ACAoKMjuaoAtV7nQ3bGgoCC7Dxh3t9XLcTlrys4uwdy5P3sMHoIQiLu6tsaiGfFYeegWlFcFYuvWaIhiMVJSKhpcE4C6uhpbk7vf4Xhc7nYCnGuyWETs3x+J77+PRMuWQHr6rTh9uggbNpzCpUsibMMHAFRWWvDhh//DJ5/kYNSoZKSnp9gFETnO3deatPT+8PW47TF3/Y0WeduXsh9VviZvploBQELgVdzU61Z8800WXnllJRYt+gPCwoIb/HvleH86/re3rxmpjtdXk8Viwdtvb8TFiwXo0KE1IiObYP/+HLj6Kwo5OYWYMGEFMjK2YuLE/h7XiLAf9Y9+VMv4d0AkIooiFi5ciL1792Lq1Kl2Q4SkvuzsEqSn70O/fl9j/XrX4SMyMhBTft8GeV/3wDeL2qBd4vVORhQFbNsWjePHwxQ8a/0RRdSFD1tt2sRg88LmyM6sxtiHWiEwUHC6b2WlBQsW/A+9em3GtGlHcPFihdNtyPjYl2rX/v25ePzx9/Dgg/M8ho8ePZLw2Wfj8Kfmh7B0aToeeeR27Nz5M8aM+RcqKqoUPGN9s1gseOmllfj4413o3j0J69Y9i3XrxuOPzQ6hT59Ut/fLySnEs8+uQN++GVi9+hDMZqd5sESqYwCRyMKFC7Fz504899xzCAsLQ3FxMYqLi1FVxc5WTd4Gj4kTO2DvtwMxY3xbxLVwdzWVIcQTd+EDAIZ1O4NuSUVIuTEUH0xNxe5v7sUTT7RlECEn7Eu1x9fgsXbts7jnnvYQBCAgwITZs0cxhPjIMXwsXToOkZG1nz1tg6/g009/h/XrxzGIkG5xDYhEHn30UZfH09PT0adPH58eq6CgwG5Oc31CQkJw7do1n36H1jW2Jm+mWkVGBuLpp29CWtpNiIkJhsliQavLl+1us/5/N+LgD1F2xwRBRL9+9tOxvCVVW5lKS9Fq0iS7YxcyMurWgCgpJCQElZXX3IaPPvdcRr/Ys3bHLjRrBovJhDNnyvDOO8ewYsUpmM2uGyo01GQ3NUsJRnxPAdfrUuIPpDaUVH0p+9HG1+TtVKsePZLw/PP34e67U+3mz6/o1g0jDh4EANTUWPCnPy3FypV7cPfdHVxOx/KWlG1VeuoUMnv1AgA8sHu33RoQJdnW5Cl8AMBn3brh8V+eVwA4cOAUMjK2YseObI+/Izm5Rb1Ts6RkxPcUoI9+VA8YQDTI1w9Ouq4hwcPKVQDJi2mGXXuicfSo/RagjQkhUtBSAPE08tG7dzF+1f6q0/NqDSBWWg0iRuUPH5zsRxuuscHDyjaAANKGEKloJYBY1Rc+AOcAYqXVIGJU/tCPyolTsHROEAS0atXKZeevVw2pyZepVt99dx/+8pdOduHD/bkAvXqV4Oabr9odb8h0LCO2FSAgKyvebfjo2LHcq0dJTIzArFm/xq5dA1WfmmXMdjJuXVIw4nPTkJoaPtXKu98hxXQsI7eVKIr1hg9Pune/UTNTs4zYToBx61IDA4gB2O6fbRTe1iRX8LAlZQgxUluJYu1Wuzt3OnfEvoQPW1oJIkZqJ1tGrUsKRnxuvK1J7uBhS4oQYsS2AtCo8GFLK0HEqO1k1LqUxmeRdEmJ4GFLyhBiBPVNu2pI+LCllSBCZGRKBg9bXJhuz2Kx4I9/XIAlS3Y2OnzY0koQIXKFAYR0RengYYshpJbc4cMWgwiR9NQKHrYYQmpZ13y8995mdO+eLFn4sMUgQlrERega5OviycDAwLq/+GsUjjU1ZnG5t1wtQndcLA3UfgHfvbtpgxamS9VWai1Cb0j48PZ59YZSi9WN+J4CrtflD4sn2Y861yTV4nJvOS5Cd6UhC9OlbCs1F6HbLjjv0SMZn3zyB6/Ch7tF6N5SarG6Ed9TgH/1o3LiCIgB1NQY7yqFtSY1RzzcacxIiJ7bSsmRD3eUGhHRczt5YtS6pGDE58ZakxZGPNxpyEiIEdrKm92u5KLUiIgR2skVo9alNAYQnRMEAfHx8YbakUEQBBQVhWgueNifo+8hRM9t5fGPDA4DOnVSdtqTnEFEz+3kiVHrkoIRnxtBEJCbW6LZ4GHLlxBihLZyDB+ffpqO1NRkxWuSM4gYoZ1cMWpdamAAIU3Jzi7BuHF70bnzMk0GD1v+sibEU/jo06cY3bqpcFK/4BoRImf79+fiscfexZ13TtF08LDlL2tC1Bz5cIdrREgNDCCkCVqcauUNo4eQ+qddaePLPIMIkbanWnnD6CFEi+HDFoMIKYkBhFSl1+Bhy6ghRAtrPnzFIEL+SO/Bw5ZRQ4jWw4ctBhFSAnfB0iBfd28RBAF6a0YldrXyVWN3a/Jmdyyp2kruXbB8CR/11STlLli+auiuWXp8T3nDWpc/7N5i5H5UFEUIgqD4rla+8mYXLHc87Y4lZVspsQuWN+HDl5oauwuWrxqya1ZAgAkmk0k37ylf+FM/KqdAtU+AGi8gIEDzW91ZLIDJBGRlFWH+/OP1Bo+xY1Pxu98la260wxPrSAgAuxBiHQkBgI4dqzXfVr6OfGj59WcdEZkwob3bIGIdEVm6NAejRiVj7NhktG0bjaoqM4z2B2+13FZq08NzY7FYsGnTj3j99Q1o1iwMhw6d8nj7nj2TMWnSIMWDhxSsIyEAsHLlHowZ86+6EKKHtrLyduRDyzVZR0TqCyLWEZHZs79CRUU1Jkzoi5EjeyA0NEjhM5aXlttKTwz28ep/BEFAbGys5j9cPv3UjEGDdmHAgG31TrXas+c3mD27H5o1C1H+RBupvulYFy5ou618DR96ef15PzXrGG67bQruuOM9bNxQpsKZykcvbaUGrT83FosFGzYcwZ13volnnlmEU6fyPYaPHj2SsHx5OvbseQO9e3fQbF31cT0dq1rTbWXL2/Ch9deflbdTs06duoz8/FJMmZKJrl1fw4cf7kJlpfejkVqml7bSAwYQktX+/adw112ZmDw5Ez/+mA/A+U2r9TUevvIUQlavBo4fD1XpzDzT45oPX9UfRM4CqEBOzkH8YdxfMGDAezh3rkiNUyWqCx59+/4dzzyzCKdP5wNwP6VFD2s8fOUcQt5Defk1tU+rXnpa8+Erb4MIAJSUVOKVVzage/c38NFH3xomiFDjMYCQLLKzzyM9fQEefPAtFBYGuBzxCA8PQnp6J8MED1vuQwiwdav2Fqb7Q/iwZRtEHnqoHQICBAA1AHJtbmVBVtZh3HPPVEyb9jkuXryi0tmSv7EGjwEDMvDMM5/gf//zv+BhyzGEDBv2OsrLtbsw3cjhw5YvQaSoqBxTpnyBXr1mMYgQAAYQQ7BYLGqfQh1r8OjX71WsX38A0dHRGDSoq91tQkODMWRID8yc+RRuuaUvcnLiUFpqvxxJSzU1lF52x2ps+NBrWxUWBuPMmTYYOPA3mDHjSXTuHAXA+UOxsrIaCxZsQ69eL+s+iOi1rZSghefGMXj8/POFX34iAAhwdQ/84Q993AYPLdQkFWsIefTR2/H114cxZsx7mtwdq6HhQ89tZQ0is2cPR33Z9+LFUt0HET23lZZwFywN8nX3Fi3Izj6PuXM3ITPzoNOuF6GhTQDcBSAA/fvfiv79b0FEhOM0JBHx8ZVITS1FZKQ6i7vk2q3Jm92xfD5XiXbBUmLkQ81dsFwpLAxGdnYkLl92XmN0/PgJLF36ES5c+BHurjiHhgZh1Ki7kZ4+CHFxUTKfrTz8YfcWPfWj1sXlGRlf2YQORyKA631jZGQogoNrcOlSKfr06YRJk4aie/dkRc7XW43ZBcsdT7tjNYSUu2ApNfKh9C5Y9cnNzce8eZuwevU+hIdHIDQ0EoWF3n12xMVF4o9/7IORI3vqbrG6P/SjcuIuWAYQEhKCa9fUmRPrKXhYBQWZ8cjD4fjznwajrLwlfvwvUOV04UpAXl4Y8vJCER9fic6dryEkxBjTfrzZHashIaSxpAofar7+fOEpeFjdemsyxox+FQX5J/Due5lYs3YnzGb7q13WEZGlS3fqLojopa3UoMZz413wsKodBYmLi8LMGQ9h4H0dAACrV+/FP/7xJYYNm+UURIzY3gEBJsyf/zQA592x1NTY8KHHtrIGjzVr9iEqKhyTJw/DU0/1Rnh4CLZvz8brr/0bP/2c5/ExrCMi8+fv0E0Q0WNbaRFHQDTIlyt3giAgPj4eeXl5iu637U3wiIwMxdNP98Pvx96Ljh2uX5m7dg34bm8ZcnIiYDa7vwqekFCBlBTlRkTkv1Iv4Icf4rFnj8PRBoyENHYERKrw4c3rT+0REG+CR2ioGakpZejRPRIBNjNd9h/4L+b9499YseJbpyBy/b76GBGxbav4+Hi1T0d2Wu5HfQsetdq2rf0bC8OHd0Vsi+a4XFxc9zOzuaYuiJw8WYA+fTrh+eeH4v7771L8s8GWHCMg1rY6e/Ycnn/+k0aPhEgxAtLY8OHr60/tERDH4DFu3AA89VRvu5kNgiCgVWwsli3/BrNnf41Dh8549dhaHxHxt35UThwBIZ/4EjzS0vojJiYCJodJoSEhQIf2V5GUdBU5OU2Qm+s6iJw/H4bz50NVn5olFUEAfvMboKysDEePRtQdV3okxF8WnHsbPFJSrqJ163IEBQoICLB/ThITW2DWrCcwYcIgvPPOZpdBRM8jIqSsxgaPwEBX60CAwMAAjBjRCw89dFtdEHnggVkYNOgrjB8/AN26aWtqlhQ8/Z0QJfnLgnPAOXi88MIwp+BhSxAE9OvXAX36pGL79mzMmVN/ENHjiAg1DAMIeaUhwaM+QUEi2rcvRXKypyBiPzVL70FEEIA77ywBIKoyHcsfwoevwSPA9Xc6Owwi1BhyBQ9HtkFkzZp9mD9/Mx54wHlqllGoHUL8JXz4Gjwc1QaR9ujbl0GErmMAMQA5F1rKETwc+VMQqa6uVm1NiFzhQysLfeUIHo70HkS00lZaJMdzo1TwcGQNIs88MwTvv78R8+ZtcrlGRK9s20qtECJ1+NDie7OxwcPi8J3BKEFEi22lR1wDokFa2L1FyuBhEgS0iouzO3bh4kWnzsmqulrwODWrlvS7Zim9VqExu2P5ugZEzZEPuZ9XqYKHr69TADhzptBtELn+u7W3RsQfdm9Rsx+VO3g0i462WwNSH1drRJQIInKsAXGnobtjNWQNiNojH3KvAfFmjYc36nudiqLodRCx0tIaEX/oR+XEAKJBvn5whoeHo7xcmi+Qcox4NOSLXXh4OK5cqVA0iCgRQBzbqqEhxJcAInf4qO/1J9fzKvWIR0Nep1Z6CSLWtvKHD041+lGlRjy8DSCONSkdROQKIO7aqiEhxNcAIlf48OX1J1cAkSp4WLVs3hwFly7Vezu9BRF/6kflxClYOicIAqKjo1FRUdGonU6UmGrlLduajDQ1y1VbyT0dS+7wIdXrzxdKTLXylR6mZtm2Fdlr7OtYralWnriqydVidb1NzfLUVnJPx5IrfKjRj9pq7FQrVwRBQFBQEARBqLcmPU3NYj8qHQYQP6el4OGO0deIyBVCjLbgXIvBw5EegghJR4vBwxtGCCLuyBVC1J52JQc5gkdj6CmIUOMxgPgpPQQPR0YOIlKHECOFDz0ED0cMIsam1+DhyKhBROoQYrTwobXg4YhBxD8wgBhAZWWl17fVS/DwVJOeg4inuqQKIUqHD19ef77QY/BwpLUgIldbGYE3z43egoe37a23IOJNXVKFEKXChxLvTaWDR43F9Xo4b2k1iLAflQYXoWuQHLu3qBk8GrO41xtS7Zql9l/stvJmYbq7Reg1TSI1N/Lh6/OqVvCQ+3UKaGexuj8snpSyH9Va8PB1FyxfSbVYXcldsNypb2G6p0XoWh358HURutSLy70l9etUa4vV/aEflRMDiAb5+sEZGRmJ0tJSlz/TwohHQ77YearJncYGESUCiLd11RdC2rfKdwogeXMysPfnBMXDR301efu8qj3ioUQAsVIriFjbyh8+OKXoR7UWPKy8/WLXkH7UVmODiFwBxNe6PIUQdwFE6fDhS03eBhC1godVbIsWyC8slPxx1Q4i/tSPyolTsHROEARERkbi6tWrdgFDC8GjodzVVB+tT83ypa76pmMF3V6CVg73OXSoCb7/Sdnw0dC2sqV28FCDGlOzbNuK7Dm+jrUaPHwhxXtTi1OzGlKXr9OxlA4fUrSVLS2s8RAEAYGBgV7tgtWQx1Zrahb7UekwgBiMnoOHVBoaRKIiqlQ5X3c8hZCdO6PQy+H2R440ARz6Uy0vOPfH4OFIa2tE/J3FYsHGjUd1HTzkoMUg4it3IcSRVqddeUMLwUNJWl0jQt5hAJHY5s2bkZmZieLiYrRu3RqjR49Gx44dZf+92dnnkZGx0a+DhyNfg8iNN1xFq8TLLh9LLZ5CSH20Gj7OX4nAd9ktccmPg4cjBhF7SvejFosFq1btxZQpnzN4eKD3IOIqhMyfPrju56JOw4e/BQ9HDCL6xDUgEtq9ezfeeecdpKWloX379vj666+xdetWZGRkoEWLFl4/jjdzl0WLBVVFRTh+Ih//+mgn1m045DZ4NGkSgjFP9MKYUb0QHRXuU01SEAQBcS1b2h27mJ8PTy+8ppGRKGnE3GVXqs0mnM5rgdN5LWCucf7CEGqqwm97/mx37KwoQpRwDUhD6xJFYM/hePx4vPZ1FF5VhBeOPGF3mzdv+QzlQbVfSO/ufhYdkooaf8JeqK8moaYGzYuLcaE8GkcutcXFimi3tw0NrkLbGwpwQ2wRTCZlu6aGvE7lcvZcEd5b+B+sXHfQ7RqRkJBAjHykJ54ZczdiWzZFcEwMhHpeq1FRUbhy5Yqm5y4r2Y/qdaqVt2tArO0tF1drRCZOHFIXRD7v3h2PHjgg+e9tbF01NRb8+c9LsXLlXgzq3gr9D7wPADg2/CUsXPuTKuHDl5qsa0DUXuNRn9iWLZFfUKD475V7jYge+lE9YACR0IsvvoikpCSMHTu27tikSZPQo0cPjBw50uvH8eaD88d9P+Hl4X/FASRAhOur4aGoRn/k4l7kIALS7qrli5BmzXDtsnZGFsSwKKD/xNr/hUfXHY+ovIAn+uTb3fZgnz4wFynzRb4+IoCsgRk4edtERF05gT8dn2D3c2sAufmLp9Hmh4/UOUkXSrsOQU7fPwPt+7i/0eXTwJevA7sXQTCrMxVOa69TAChEGL5ECr5FIixwHS6CUIN7cAqvbX0fiR2SvHpcLX9wKtWP7thxDK++usHr4NHcVIZ+of/DrUHnESCo87FZVVICiCKCIyJQVVYGCAKCmzZV5Vxs1YjAoapYbL/WBpcsoZiJDWqfUr0sANaiKx7CIVhXgryJQWiCSvwW3yIU6m/b7sh6KeISwvEfpOIIWiNMMKN36DncEZqHEKFx295Kpaq4GBBFBIWHo7q8vPZ1Gum8PlFuoggcM8fiq2vtcaYmxqv7NDVdw4uvP4Ynn7yt3ttquR/VA07BkojZbEZOTg4efPBBu+NdunTBsWPHXN6nurra7gNSEASEhYXV/TcAu1EN6zEAmPzKWnyPG1w+rlaCh1YJFVeADdMhbp3rMoholQCg05ZJEAFcuvlRl7fRWvioCYnAqd9+AoS76fw1EDy0rAUq8CSO4Dc47jaIVCMAW5GM2H9tw+x5aXXHrX2Hbb/RtGlTWa+IN5aS/WhBQalX4aMZStEHP+Jmy0kElIuoAVDjS1EyqLIugBXF2i97GtAFxfgVjuMI9PGlzARgOA7ZjXAmoAgP4ntNhg8AqIYJX6ALjuCGXz7nf0JP8SRCKmogVgBa+esUwi//qy4rqz0giqhSqd9JxhX8HsdxHAnYhltwFp5HUUssIThxosCp79BTP6oXDCASKSkpgcViQVSU/ZzsqKgoFLv5gFi7di1WrVpV9++kpCS89dZbaGkzDaSsrAxXrlxBVFQUIiKur9v468TBeGzMv+wej8HDN05B5O4n6ruL6qwh5FB8F6efddzyHFr9sET5k/Ig4FoZWnzzT1y872X7HzB4+KS+IGKCBX95djDi4+PrjpWWlqK0tBQxMTEIDb0+JUPqvzEkJSX70fHjh2DevG3IzXU9RaQueOAkAlSZiKc/ARDRFefUPg2vmQC7lh2OgwhRPV66FwgLKhGE/vgZPXFS0+eqJQKAVJxHCs7XG0QCUYPp0x9FfHw0AH32o3rBACIx25Ts6RgADB8+HEOHDnW6XUFBAczm2isw1vR95coVlJSU1N22x69bIwlFyEUMg0cjWYMIDnwE3Kf9qQMmAD0++w3Qv7/d8dY/fqbJ63Ytdn+Ai3enAxHNGDwayV0QuRNnEB0VjLy8vLrbWvuOol+mEAqCgFatWqGiogLR0dFqnL7XlOpHn322HyZNWmH3eAwe/kUAcA21owta/0IvABiJ/Wqfhm55E0RuDz4JoAJ5eRUA9N2Pah0DiESaNm0Kk8nkdJXOetXNlaCgIAQFOS92Cgysv1maxMXhndXT8d+f8jB6VB+Yqysk32tbKqIowmIdiv2FKSLC7RcKQRDQrHlzXL50SdGaRFHEuatXUVMjoLAoEmGhVUjYs8ftefpKyrrEmhqcL7iEPT8loUlYJW5OzkPCnDkQFN4yypuaRIsFYedLAZSiZUQhhHvTgMhJ9S6YVpr1dSoIQt0iQyE8XLL2l9pvAVwsKMWqdQfx8IPdEBEb69Vz6k3/ohal+9ERI3rii2XfoMgcgmhTBXqGnEFKYAkCkAggsSElyKq6rKx2YruVICAowvWOhsIvP4coKhqjXP2u4IgIDFi8WJLHFwQBLVq0QGFhoWyfD2q851u2bImCehZsf52WVrsOSOPMpaVOr9NAN69TtSQC6CeW4WRNMPZWtcWFmkgEwoInWxZ71XdouR/VCy5Cl9CLL76I5ORkpKVdn4fdkMWTRET+iv0oEZHxaesSpM4NHToUW7duxbZt23D27FksXrwYhYWFGDBggGy/s6KiAn/7299QUVEh2+9QmhFrAoxZF2vSD73UxX5UGkasCTBmXaxJP4xalxo4hiShXr16obS0FKtXr0ZRURESExMxefJku8WQUhNFEbm5uZqdftUQRqwJMGZdrEk/9FIX+1FpGLEmwJh1sSb9MGpdamAAkdigQYMwaNAgtU+DiEi32I8SERkbp2AREREREZFiGEB0LigoCA8//LDLXWD0yog1AcasizXph1HrkoIRnxsj1gQYsy7WpB9GrUsN3AWLiIiIiIgUwxEQIiIiIiJSDAMIEREREREphgGEiIiIiIgUwwBCRERERESK4d8B0YHNmzcjMzMTxcXFaN26NUaPHo2OHTu6vX1WVhaWLFmCs2fPIiYmBg888AAGDhyo4Bm7t3btWuzbtw/nzp1DcHAwUlNTMWrUKCQkJLi9z3//+19Mnz7d6XhGRgZuuOEGOU/Xa59//jlWrVpldywqKgoffvih2/touZ0AYPz48SgoKHA6PnDgQKSlpTkd12I7ZWVlITMzE7m5uSgqKsKf//xn9OzZs+7noihi5cqV2Lp1K65evYqUlBQ8/fTTSExM9Pi4e/bswYoVK3Dx4kXExcXh8ccft3tcuXmqy2w2Y/ny5Th06BDy8/MRHh6Om2++GSNHjkSzZs3cPuaOHTvw7rvvOh1funQpgoODZatFKexHtff+dMR+VLvtZMS+lP2ouhhANG737t1YvHgx0tLS0L59e3z99dd4/fXXkZGRgRYtWjjdPj8/H2+88Qb69++PCRMm4NixY1iwYAGaNm2K22+/XYUK7GVlZWHQoEFo164dampqsHz5csycORNz5sxBaGiox/vOnTsX4eHhdf9u2rSp3Kfrk8TEREyZMqXu3yaT+wFGrbcTALzxxhuwWCx1/z59+jRmzpyJO+64w+P9tNRO165dQ9u2bdG3b1/Mnj3b6efr16/Hxo0bkZ6ejvj4eKxZswYzZ87E3LlzERYW5vIxs7OzMXfuXIwYMQI9e/bEvn37kJGRgRkzZiAlJUXukgB4rquqqgq5ubl46KGH0LZtW1y9ehVLlizBrFmz8Oabb3p83LCwMMybN8/umBE+NNmPXqel96cr7Edraa2djNiXsh9VFwOIxm3YsAH9+vVD//79AQCjR4/G4cOHsWXLFowcOdLp9lu2bEGLFi0wevRoAEDr1q1x4sQJfPHFF5rokF966SW7f6enpyMtLQ05OTno1KmTx/tGRUUhIiJCztNrFJPJhOjoaK9uq/V2Apw/8NatW4e4uDhdtVPXrl3RtWtXlz8TRRGbNm3C8OHDcdtttwGovVo5duxY7Nq1CwMGDHB5v40bN6JLly4YPnw4AGD48OHIysrCxo0bMXHiRFnqcOSprvDwcLsvcAAwZswYvPjiiygsLHT5hdtKEASvX8N6wn70Oi29P11hP1pLa+1kxL6U/ai6GEA0zGw2IycnBw8++KDd8S5duuDYsWMu73P8+HF06dLF7titt96K7du3w2w2IzBQW01eXl4OAGjSpEm9t/3rX/+K6upqtG7dGv/3f/+Hzp07y316Prlw4QKeeeYZBAYGIiUlBY8//jji4uJc3lZv7WQ2m7Fz504MGTIEgiB4vK3W28kqPz8fxcXFuOWWW+qOBQUFoVOnTjh27JjbD83s7GwMGTLE7tgtt9yCTZs2yXq+jVFeXg5BEOyuqLpSWVmJ9PR0WCwWtG3bFiNGjEBSUpJCZykP9qP2tP7+ZD9aS+vtZMtf+lJ/7kfloK13J9kpKSmBxWJBVFSU3fGoqCgUFxe7vE9xcbHL29fU1KC0tBQxMTFyna7PRFHEkiVL0KFDB7Rp08bt7WJiYvD73/8eycnJMJvN+Oabb/Dqq69i2rRp9V5FUkpKSgrGjx+PhIQEFBcXY82aNXj55ZcxZ84cREZGOt1eT+0EAPv27UNZWRn69Onj9jZ6aCdb1veQq3YoLCz0eD/Hq1vR0dFu35Nqq6qqwrJly3DnnXd6/OBMSEhAeno62rRpg4qKCmzatAlTpkzB22+/jfj4eAXPWFrsR2vp4f3JflQf7eTIH/pSf+9H5cAAogOurpR4unri+DPrH7uv74qL0hYuXIjTp09jxowZHm+XkJBgt7gyNTUVhYWF+OKLLzTTIdsO47Zp0wapqamYMGEC/vOf/2Do0KEu76OXdgKA7du349Zbb/W4+E4P7eSKu3bwhSiKmmw3s9mMuXPnQhRFlwtebaWmpiI1NbXu3+3bt8ff/vY3fPnll/jd734n96nKjv2o9t+f7Ef10U7uGLUvZT8qD27Dq2FNmzaFyWRyuhpw5coVpysNVq6uHpSUlCAgIMCr4XmlfPTRRzh48CCmTZuG5s2b+3z/1NRUXLhwQYYzk0ZoaCjatGmDvLw8lz/XSzsBQEFBAY4cOVI3f94XWm4n65U3V+3g7v1lvZ8v70m1mM1mZGRkoKCgAC+//HK90wYcmUwmtGvXTrPt5y32o+5p+f0JsB+10no7GbkvZT8qHwYQDQsMDERycjKOHDlid/zIkSNo3769y/ukpKQ43f7w4cNITk7WxHxYURSxcOFC7N27F1OnTkVsbGyDHic3N1fTi7yqq6tx7tw5t1MAtN5OtrZv346oqCj8+te/9vm+Wm6n2NhYREdH27WD2WxGVlaW2/cXUPtl4OjRo3bHjhw5YnfVS23WD80LFy5gypQpLqev1EcURZw6dUqz7ect9qPuafn9CbAftdJ6Oxm1L2U/Ki8GEI0bOnQotm7dim3btuHs2bNYvHgxCgsL6xZ1LVu2DPPnz6+7/cCBA1FYWFi3L/q2bduwbds23H///WqVYGfhwoXYuXMnnnvuOYSFhaG4uBjFxcWoqqqqu41jTRs3bsS+ffuQl5eHM2fOYNmyZdi7dy/uu+8+NUpw6eOPP0ZWVhby8/Nx/PhxzJ49GxUVFejduzcA/bWTlcViwY4dO9C7d28EBATY/UwP7VRZWYmTJ0/i5MmTAGoXS548eRKFhYUQBAGDBw+u+5sKp0+fxj//+U+EhITgrrvuqnuM+fPnY9myZXX/Hjx4MA4fPox169bh3LlzWLduHY4ePeq0mFKtumpqajBnzhzk5ORgwoQJsFgsde8zs9nstq6VK1fihx9+wMWLF3Hy5Em89957OHnypKb+pkJDsR/V5vvTEftR7baTEftS9qPq0tYlAnLSq1cvlJaWYvXq1SgqKkJiYiImT56Mli1bAgCKiorsFnnFxsZi8uTJWLJkCTZv3oyYmBiMGTNGM1sSbtmyBQDwyiuv2B1PT0+vW5jnWJPZbMYnn3yCy5cvIzg4GImJiXjhhRcadCVJLpcvX8a8efNQUlKCpk2bIiUlBa+99ppu28nq6NGjKCwsRN++fZ1+pod2OnHihN0f9fr4448BAL1798b48eMxbNgwVFVVYcGCBSgrK8NNN92El156yW7feusHrFX79u0xceJELF++HCtWrECrVq0wceJExf4GSH11PfLIIzhw4ACA2p10bE2bNg2/+tWvADjXVVZWhg8++ADFxcUIDw9HUlISpk+fjptuuknucmTHflSb709H7Ee1205G7EvZj6pLEBuySoiIiIiIiKgBOAWLiIiIiIgUwwBCRERERESKYQAhIiIiIiLFMIAQEREREZFiGECIiIiIiEgxDCBERERERKQYBhAiIiIiIlIMAwgRERERESmGAYSIiIiIiBTDAEJERERERIphACEiIiIiIsUwgBARERERkWIYQIiIiIiISDEMIEREREREpBgGECIiIiIiUgwDCBERERERKYYBhIiIiIiIFMMAQkREREREimEAISIiIiIixTCAEBERERGRYhhAiIiIiIhIMQwgRERERESkGAYQIiIiIiJSDAMIEREREREphgGEiIiIiIgUwwBCRERERESKYQAhIiIiIiLFMIAQEREREZFiGECIiIiIiEgxDCBERERERKQYBhAiIiIiIlIMAwgRERERESmGAYSIiIiIiBTDAEJERERERIphACEiIiIiIsUwgBARERERkWIYQIiIiIiISDEMIEREREREpBgGECIiIiIiUgwDCBERERERKYYBhIiIiIiIFMMAQkREREREivl/mqmcohj2M3EAAAAASUVORK5CYII=' width=800.0/>\n",
       "            </div>\n",
       "        "
      ],
      "text/plain": [
       "Canvas(toolbar=Toolbar(toolitems=[('Home', 'Reset original view', 'home', 'home'), ('Back', 'Back to previous …"
      ]
     },
     "metadata": {},
     "output_type": "display_data"
    }
   ],
   "source": [
    "plt.figure(\"Comparación\", figsize=(8, 2))\n",
    "plt.subplot(121)\n",
    "plot_truss(nodes, eles, mats, loads)\n",
    "plt.subplot(122)\n",
    "plot_truss(nodes, eles, mats1, loads)\n",
    "plt.show()"
   ]
  },
  {
   "cell_type": "code",
   "execution_count": null,
   "metadata": {},
   "outputs": [],
   "source": []
  }
 ],
 "metadata": {
  "kernelspec": {
   "display_name": "Python 3.10.4 ('truss_opt')",
   "language": "python",
   "name": "python3"
  },
  "language_info": {
   "codemirror_mode": {
    "name": "ipython",
    "version": 3
   },
   "file_extension": ".py",
   "mimetype": "text/x-python",
   "name": "python",
   "nbconvert_exporter": "python",
   "pygments_lexer": "ipython3",
   "version": "3.10.4"
  },
  "varInspector": {
   "cols": {
    "lenName": 16,
    "lenType": 16,
    "lenVar": 40
   },
   "kernels_config": {
    "python": {
     "delete_cmd_postfix": "",
     "delete_cmd_prefix": "del ",
     "library": "var_list.py",
     "varRefreshCmd": "print(var_dic_list())"
    },
    "r": {
     "delete_cmd_postfix": ") ",
     "delete_cmd_prefix": "rm(",
     "library": "var_list.r",
     "varRefreshCmd": "cat(var_dic_list()) "
    }
   },
   "types_to_exclude": [
    "module",
    "function",
    "builtin_function_or_method",
    "instance",
    "_Feature"
   ],
   "window_display": false
  },
  "vscode": {
   "interpreter": {
    "hash": "6dbad2c3ab03cd5423664146bc5791d2e5deeb99d9f901d839d61af9c60160de"
   }
  }
 },
 "nbformat": 4,
 "nbformat_minor": 4
}
